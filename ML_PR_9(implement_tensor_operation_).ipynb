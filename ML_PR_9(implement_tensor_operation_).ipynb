{
  "nbformat": 4,
  "nbformat_minor": 0,
  "metadata": {
    "colab": {
      "provenance": []
    },
    "kernelspec": {
      "name": "python3",
      "display_name": "Python 3"
    },
    "language_info": {
      "name": "python"
    }
  },
  "cells": [
    {
      "cell_type": "markdown",
      "source": [
        "**CREATE ONE DIMENSIONAL TENSOR**"
      ],
      "metadata": {
        "id": "LEPyUL40Rq57"
      }
    },
    {
      "cell_type": "code",
      "execution_count": 1,
      "metadata": {
        "id": "ODvJCkfZOn8H"
      },
      "outputs": [],
      "source": [
        "import numpy as np"
      ]
    },
    {
      "cell_type": "code",
      "source": [
        "tensor_id = np.array([1.3, 1, 4.0, 23.99])"
      ],
      "metadata": {
        "id": "usAeh1CWPZRb"
      },
      "execution_count": 2,
      "outputs": []
    },
    {
      "cell_type": "code",
      "source": [
        "print(tensor_id)"
      ],
      "metadata": {
        "colab": {
          "base_uri": "https://localhost:8080/"
        },
        "id": "AtV_HBW-PejI",
        "outputId": "dc83c2f6-c98a-4265-8e72-d2c1c11a7ed5"
      },
      "execution_count": 3,
      "outputs": [
        {
          "output_type": "stream",
          "name": "stdout",
          "text": [
            "[ 1.3   1.    4.   23.99]\n"
          ]
        }
      ]
    },
    {
      "cell_type": "code",
      "source": [
        "print(tensor_id[0])"
      ],
      "metadata": {
        "colab": {
          "base_uri": "https://localhost:8080/"
        },
        "id": "jyND_q76PjDd",
        "outputId": "273d3313-5064-40c4-adaf-e862e7a408b4"
      },
      "execution_count": 4,
      "outputs": [
        {
          "output_type": "stream",
          "name": "stdout",
          "text": [
            "1.3\n"
          ]
        }
      ]
    },
    {
      "cell_type": "code",
      "source": [
        "print(tensor_id[2])"
      ],
      "metadata": {
        "colab": {
          "base_uri": "https://localhost:8080/"
        },
        "id": "LfuAYGOEPs6h",
        "outputId": "88a36497-0406-4b2b-a38f-87e0448af582"
      },
      "execution_count": 5,
      "outputs": [
        {
          "output_type": "stream",
          "name": "stdout",
          "text": [
            "4.0\n"
          ]
        }
      ]
    },
    {
      "cell_type": "markdown",
      "source": [
        "**CREATE TWO DIMENSIONAL TENSOR**"
      ],
      "metadata": {
        "id": "o9hliyQORyCV"
      }
    },
    {
      "cell_type": "code",
      "source": [
        "import numpy as np"
      ],
      "metadata": {
        "id": "7MAJj5SRPycp"
      },
      "execution_count": 6,
      "outputs": []
    },
    {
      "cell_type": "code",
      "source": [
        "tensor_2d = np.array([(1, 2, 3, 4), (4, 5, 6, 7), (8, 9, 10, 11), (12, 13, 14, 15)])"
      ],
      "metadata": {
        "id": "SznfHNhMQAG6"
      },
      "execution_count": 7,
      "outputs": []
    },
    {
      "cell_type": "code",
      "source": [
        "print(tensor_2d)"
      ],
      "metadata": {
        "colab": {
          "base_uri": "https://localhost:8080/"
        },
        "id": "4xRpazo9QVyE",
        "outputId": "7336452b-0ce9-409b-f791-371cac16dcdc"
      },
      "execution_count": 8,
      "outputs": [
        {
          "output_type": "stream",
          "name": "stdout",
          "text": [
            "[[ 1  2  3  4]\n",
            " [ 4  5  6  7]\n",
            " [ 8  9 10 11]\n",
            " [12 13 14 15]]\n"
          ]
        }
      ]
    },
    {
      "cell_type": "code",
      "source": [
        "tensor_2d[3] [2]"
      ],
      "metadata": {
        "colab": {
          "base_uri": "https://localhost:8080/"
        },
        "id": "iWO7hxN7Qflq",
        "outputId": "9d7589a2-136a-4a56-9345-d08689c3be49"
      },
      "execution_count": 9,
      "outputs": [
        {
          "output_type": "execute_result",
          "data": {
            "text/plain": [
              "14"
            ]
          },
          "metadata": {},
          "execution_count": 9
        }
      ]
    },
    {
      "cell_type": "markdown",
      "source": [
        "**TENSOR HANDLING AND MANIPULATION**"
      ],
      "metadata": {
        "id": "YRVg2GNkR1tj"
      }
    },
    {
      "cell_type": "code",
      "source": [
        "import tensorflow as tf\n",
        "import numpy as np"
      ],
      "metadata": {
        "id": "UJfD4GKnQopp"
      },
      "execution_count": 10,
      "outputs": []
    },
    {
      "cell_type": "code",
      "source": [
        "matrix1 = np.array([(2, 2, 2), (2, 2, 2), (2, 2, 2)], dtype = 'int32')\n",
        "matrix2 = np.array([(1, 1, 1), (1, 1, 1), (1, 1, 1)], dtype = 'int32')"
      ],
      "metadata": {
        "id": "-0sAo8FzQ6Zc"
      },
      "execution_count": 11,
      "outputs": []
    },
    {
      "cell_type": "code",
      "source": [
        "print(matrix1)"
      ],
      "metadata": {
        "colab": {
          "base_uri": "https://localhost:8080/"
        },
        "id": "5vkGf-MLQ9Av",
        "outputId": "20b8a9ff-d14e-4f69-ffef-c838c164e72e"
      },
      "execution_count": 12,
      "outputs": [
        {
          "output_type": "stream",
          "name": "stdout",
          "text": [
            "[[2 2 2]\n",
            " [2 2 2]\n",
            " [2 2 2]]\n"
          ]
        }
      ]
    },
    {
      "cell_type": "code",
      "source": [
        "print(matrix2)"
      ],
      "metadata": {
        "colab": {
          "base_uri": "https://localhost:8080/"
        },
        "id": "LfcBVawuRGe9",
        "outputId": "f6300155-ccb0-4647-9b18-247bca7b4e79"
      },
      "execution_count": 13,
      "outputs": [
        {
          "output_type": "stream",
          "name": "stdout",
          "text": [
            "[[1 1 1]\n",
            " [1 1 1]\n",
            " [1 1 1]]\n"
          ]
        }
      ]
    },
    {
      "cell_type": "code",
      "source": [
        "matrix1 = tf.constant(matrix1)\n",
        "matrix2 = tf.constant(matrix2)\n",
        "matrix_product = tf.matmul(matrix1, matrix2)\n",
        "matrix_sum = tf.add(matrix1, matrix2)\n",
        "matrix_sub = tf.subtract(matrix1, matrix2)\n",
        "matrix_div = tf.divide(matrix1, matrix2)\n",
        "matrix_3 = np.array([(2, 7, 2), (1, 4, 2), (9, 0, 2)], dtype = 'float32')\n",
        "print(matrix_3)\n",
        "print(matrix_product)\n",
        "print(matrix_sum)\n",
        "print(matrix_sub)\n",
        "print(matrix_div)"
      ],
      "metadata": {
        "colab": {
          "base_uri": "https://localhost:8080/"
        },
        "id": "o2SjfY-7RK2f",
        "outputId": "1423bda8-07b1-4504-c881-a3c1f69a1c69"
      },
      "execution_count": 14,
      "outputs": [
        {
          "output_type": "stream",
          "name": "stdout",
          "text": [
            "[[2. 7. 2.]\n",
            " [1. 4. 2.]\n",
            " [9. 0. 2.]]\n",
            "tf.Tensor(\n",
            "[[6 6 6]\n",
            " [6 6 6]\n",
            " [6 6 6]], shape=(3, 3), dtype=int32)\n",
            "tf.Tensor(\n",
            "[[3 3 3]\n",
            " [3 3 3]\n",
            " [3 3 3]], shape=(3, 3), dtype=int32)\n",
            "tf.Tensor(\n",
            "[[1 1 1]\n",
            " [1 1 1]\n",
            " [1 1 1]], shape=(3, 3), dtype=int32)\n",
            "tf.Tensor(\n",
            "[[2. 2. 2.]\n",
            " [2. 2. 2.]\n",
            " [2. 2. 2.]], shape=(3, 3), dtype=float64)\n"
          ]
        }
      ]
    },
    {
      "cell_type": "code",
      "source": [
        "#importing the library\n",
        "import tensorflow as tf"
      ],
      "metadata": {
        "id": "TN6l4pg0RSrU"
      },
      "execution_count": 15,
      "outputs": []
    },
    {
      "cell_type": "code",
      "source": [
        "#initializing the input tensor\n",
        "a = tf.constant([7, 8, 13, 11], dtype = tf.float64)\n",
        "b = tf.constant([2, 13, 14, 5], dtype = tf.float64)"
      ],
      "metadata": {
        "id": "OhqYolRTRYY9"
      },
      "execution_count": 16,
      "outputs": []
    },
    {
      "cell_type": "code",
      "source": [
        "#printing the input tensor\n",
        "print('a:', a)\n",
        "print('b:', b)"
      ],
      "metadata": {
        "colab": {
          "base_uri": "https://localhost:8080/"
        },
        "id": "l0IwwV_bRfYA",
        "outputId": "28d2624a-0d99-4142-b482-7cdfa0cb8c8b"
      },
      "execution_count": 17,
      "outputs": [
        {
          "output_type": "stream",
          "name": "stdout",
          "text": [
            "a: tf.Tensor([ 7.  8. 13. 11.], shape=(4,), dtype=float64)\n",
            "b: tf.Tensor([ 2. 13. 14.  5.], shape=(4,), dtype=float64)\n"
          ]
        }
      ]
    },
    {
      "cell_type": "code",
      "source": [
        "res = tf.math.less(x = a, y = b)"
      ],
      "metadata": {
        "id": "IU50tiGGRj3g"
      },
      "execution_count": 18,
      "outputs": []
    },
    {
      "cell_type": "code",
      "source": [
        "print('Result:', res)"
      ],
      "metadata": {
        "colab": {
          "base_uri": "https://localhost:8080/"
        },
        "id": "rCW7OT9MRm5G",
        "outputId": "43ca16f4-9c14-4e31-ec4a-150fdf4debd7"
      },
      "execution_count": 19,
      "outputs": [
        {
          "output_type": "stream",
          "name": "stdout",
          "text": [
            "Result: tf.Tensor([False  True  True False], shape=(4,), dtype=bool)\n"
          ]
        }
      ]
    }
  ]
}